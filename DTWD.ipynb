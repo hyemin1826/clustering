{
  "nbformat": 4,
  "nbformat_minor": 0,
  "metadata": {
    "colab": {
      "name": "DTWD.ipynb",
      "provenance": [],
      "collapsed_sections": [],
      "authorship_tag": "ABX9TyNpplk18gcUMOH2KoBn/Jtp",
      "include_colab_link": true
    },
    "kernelspec": {
      "name": "python3",
      "display_name": "Python 3"
    },
    "language_info": {
      "name": "python"
    }
  },
  "cells": [
    {
      "cell_type": "markdown",
      "metadata": {
        "id": "view-in-github",
        "colab_type": "text"
      },
      "source": [
        "<a href=\"https://colab.research.google.com/github/hyemin1826/clustering/blob/main/DTWD.ipynb\" target=\"_parent\"><img src=\"https://colab.research.google.com/assets/colab-badge.svg\" alt=\"Open In Colab\"/></a>"
      ]
    },
    {
      "cell_type": "code",
      "execution_count": 6,
      "metadata": {
        "colab": {
          "base_uri": "https://localhost:8080/",
          "height": 745
        },
        "collapsed": true,
        "id": "7QGvEtE7VBCM",
        "outputId": "ff552c86-288e-4f93-b59f-402d58e5fae6"
      },
      "outputs": [
        {
          "output_type": "stream",
          "name": "stdout",
          "text": [
            "Looking in indexes: https://pypi.org/simple, https://us-python.pkg.dev/colab-wheels/public/simple/\n",
            "Collecting yfinance\n",
            "  Downloading yfinance-0.1.74-py2.py3-none-any.whl (27 kB)\n",
            "Requirement already satisfied: numpy>=1.15 in /usr/local/lib/python3.7/dist-packages (from yfinance) (1.21.6)\n",
            "Requirement already satisfied: pandas>=0.24.0 in /usr/local/lib/python3.7/dist-packages (from yfinance) (1.3.5)\n",
            "Collecting requests>=2.26\n",
            "  Downloading requests-2.28.1-py3-none-any.whl (62 kB)\n",
            "\u001b[K     |████████████████████████████████| 62 kB 1.3 MB/s \n",
            "\u001b[?25hRequirement already satisfied: lxml>=4.5.1 in /usr/local/lib/python3.7/dist-packages (from yfinance) (4.9.1)\n",
            "Requirement already satisfied: multitasking>=0.0.7 in /usr/local/lib/python3.7/dist-packages (from yfinance) (0.0.11)\n",
            "Requirement already satisfied: pytz>=2017.3 in /usr/local/lib/python3.7/dist-packages (from pandas>=0.24.0->yfinance) (2022.1)\n",
            "Requirement already satisfied: python-dateutil>=2.7.3 in /usr/local/lib/python3.7/dist-packages (from pandas>=0.24.0->yfinance) (2.8.2)\n",
            "Requirement already satisfied: six>=1.5 in /usr/local/lib/python3.7/dist-packages (from python-dateutil>=2.7.3->pandas>=0.24.0->yfinance) (1.15.0)\n",
            "Requirement already satisfied: charset-normalizer<3,>=2 in /usr/local/lib/python3.7/dist-packages (from requests>=2.26->yfinance) (2.1.0)\n",
            "Requirement already satisfied: urllib3<1.27,>=1.21.1 in /usr/local/lib/python3.7/dist-packages (from requests>=2.26->yfinance) (1.24.3)\n",
            "Requirement already satisfied: certifi>=2017.4.17 in /usr/local/lib/python3.7/dist-packages (from requests>=2.26->yfinance) (2022.6.15)\n",
            "Requirement already satisfied: idna<4,>=2.5 in /usr/local/lib/python3.7/dist-packages (from requests>=2.26->yfinance) (2.10)\n",
            "Installing collected packages: requests, yfinance\n",
            "  Attempting uninstall: requests\n",
            "    Found existing installation: requests 2.23.0\n",
            "    Uninstalling requests-2.23.0:\n",
            "      Successfully uninstalled requests-2.23.0\n",
            "Successfully installed requests-2.28.1 yfinance-0.1.74\n"
          ]
        },
        {
          "output_type": "display_data",
          "data": {
            "application/vnd.colab-display-data+json": {
              "pip_warning": {
                "packages": [
                  "requests"
                ]
              }
            }
          },
          "metadata": {}
        },
        {
          "output_type": "stream",
          "name": "stdout",
          "text": [
            "Looking in indexes: https://pypi.org/simple, https://us-python.pkg.dev/colab-wheels/public/simple/\n",
            "Collecting scikit-learn-extra\n",
            "  Downloading scikit_learn_extra-0.2.0-cp37-cp37m-manylinux2010_x86_64.whl (1.7 MB)\n",
            "\u001b[K     |████████████████████████████████| 1.7 MB 5.2 MB/s \n",
            "\u001b[?25hRequirement already satisfied: scipy>=0.19.1 in /usr/local/lib/python3.7/dist-packages (from scikit-learn-extra) (1.7.3)\n",
            "Requirement already satisfied: scikit-learn>=0.23.0 in /usr/local/lib/python3.7/dist-packages (from scikit-learn-extra) (1.0.2)\n",
            "Requirement already satisfied: numpy>=1.13.3 in /usr/local/lib/python3.7/dist-packages (from scikit-learn-extra) (1.21.6)\n",
            "Requirement already satisfied: joblib>=0.11 in /usr/local/lib/python3.7/dist-packages (from scikit-learn>=0.23.0->scikit-learn-extra) (1.1.0)\n",
            "Requirement already satisfied: threadpoolctl>=2.0.0 in /usr/local/lib/python3.7/dist-packages (from scikit-learn>=0.23.0->scikit-learn-extra) (3.1.0)\n",
            "Installing collected packages: scikit-learn-extra\n",
            "Successfully installed scikit-learn-extra-0.2.0\n"
          ]
        }
      ],
      "source": [
        "!pip install yfinance\n",
        "!pip install scikit-learn-extra"
      ]
    },
    {
      "cell_type": "markdown",
      "source": [
        "# 1. Make Data"
      ],
      "metadata": {
        "id": "rBqnE-qKVeOW"
      }
    },
    {
      "cell_type": "code",
      "source": [
        "import pandas as pd\n",
        "import numpy as np\n",
        "import yfinance as yf\n",
        "\n",
        "aapl = yf.download('AAPL', start=\"2020-01-01\")\n",
        "goog = yf.download('GOOG', start=\"2020-01-01\")\n",
        "o = yf.download('O', start=\"2020-01-01\")\n",
        "tsm = yf.download('TSM', start=\"2020-01-01\")"
      ],
      "metadata": {
        "colab": {
          "base_uri": "https://localhost:8080/"
        },
        "id": "7tJGfVhLVLVT",
        "outputId": "7297e03f-e969-427c-8675-db1e152c93f6"
      },
      "execution_count": 7,
      "outputs": [
        {
          "output_type": "stream",
          "name": "stdout",
          "text": [
            "[*********************100%***********************]  1 of 1 completed\n",
            "[*********************100%***********************]  1 of 1 completed\n",
            "[*********************100%***********************]  1 of 1 completed\n",
            "[*********************100%***********************]  1 of 1 completed\n"
          ]
        }
      ]
    },
    {
      "cell_type": "code",
      "source": [
        "aapl['ticker'] = \"AAPL\"\n",
        "goog['ticker'] = \"GOOG\"\n",
        "o['ticker'] = \"O\"\n",
        "tsm['ticker'] = \"TSM\"\n",
        "\n",
        "data = pd.concat([aapl, goog, o, tsm], axis=0)\n",
        "data['time'] = data.index\n",
        "\n",
        "data.set_index(['time','ticker'], inplace=True)\n",
        "data = data.sort_index()\n",
        "\n",
        "time = data.index.get_level_values(0)\n",
        "tickers = data.index.get_level_values(1).unique()\n",
        "\n",
        "for t in time:\n",
        "    if (data.xs(t).shape[0] != 4):\n",
        "        data = data.drop(t, level=0)\n",
        "\n",
        "data.head(4)"
      ],
      "metadata": {
        "colab": {
          "base_uri": "https://localhost:8080/",
          "height": 206
        },
        "id": "JqMxKpDWVP1U",
        "outputId": "fb148ce6-523f-4029-c7bb-e4cb9e8857bf"
      },
      "execution_count": 8,
      "outputs": [
        {
          "output_type": "execute_result",
          "data": {
            "text/plain": [
              "                        Open       High        Low      Close  Adj Close  \\\n",
              "time       ticker                                                          \n",
              "2020-01-02 AAPL    74.059998  75.150002  73.797501  75.087502  73.683571   \n",
              "           GOOG    67.077499  68.406998  67.077499  68.368500  68.368500   \n",
              "           O       71.560081  71.705429  69.699615  70.232559  62.739418   \n",
              "           TSM     59.599998  60.119999  59.599998  60.040001  56.990181   \n",
              "\n",
              "                        Volume  \n",
              "time       ticker               \n",
              "2020-01-02 AAPL    135480400.0  \n",
              "           GOOG     28132000.0  \n",
              "           O         2061523.0  \n",
              "           TSM       8432600.0  "
            ],
            "text/html": [
              "\n",
              "  <div id=\"df-7c734d2f-b872-4f59-9195-11e79fe8330e\">\n",
              "    <div class=\"colab-df-container\">\n",
              "      <div>\n",
              "<style scoped>\n",
              "    .dataframe tbody tr th:only-of-type {\n",
              "        vertical-align: middle;\n",
              "    }\n",
              "\n",
              "    .dataframe tbody tr th {\n",
              "        vertical-align: top;\n",
              "    }\n",
              "\n",
              "    .dataframe thead th {\n",
              "        text-align: right;\n",
              "    }\n",
              "</style>\n",
              "<table border=\"1\" class=\"dataframe\">\n",
              "  <thead>\n",
              "    <tr style=\"text-align: right;\">\n",
              "      <th></th>\n",
              "      <th></th>\n",
              "      <th>Open</th>\n",
              "      <th>High</th>\n",
              "      <th>Low</th>\n",
              "      <th>Close</th>\n",
              "      <th>Adj Close</th>\n",
              "      <th>Volume</th>\n",
              "    </tr>\n",
              "    <tr>\n",
              "      <th>time</th>\n",
              "      <th>ticker</th>\n",
              "      <th></th>\n",
              "      <th></th>\n",
              "      <th></th>\n",
              "      <th></th>\n",
              "      <th></th>\n",
              "      <th></th>\n",
              "    </tr>\n",
              "  </thead>\n",
              "  <tbody>\n",
              "    <tr>\n",
              "      <th rowspan=\"4\" valign=\"top\">2020-01-02</th>\n",
              "      <th>AAPL</th>\n",
              "      <td>74.059998</td>\n",
              "      <td>75.150002</td>\n",
              "      <td>73.797501</td>\n",
              "      <td>75.087502</td>\n",
              "      <td>73.683571</td>\n",
              "      <td>135480400.0</td>\n",
              "    </tr>\n",
              "    <tr>\n",
              "      <th>GOOG</th>\n",
              "      <td>67.077499</td>\n",
              "      <td>68.406998</td>\n",
              "      <td>67.077499</td>\n",
              "      <td>68.368500</td>\n",
              "      <td>68.368500</td>\n",
              "      <td>28132000.0</td>\n",
              "    </tr>\n",
              "    <tr>\n",
              "      <th>O</th>\n",
              "      <td>71.560081</td>\n",
              "      <td>71.705429</td>\n",
              "      <td>69.699615</td>\n",
              "      <td>70.232559</td>\n",
              "      <td>62.739418</td>\n",
              "      <td>2061523.0</td>\n",
              "    </tr>\n",
              "    <tr>\n",
              "      <th>TSM</th>\n",
              "      <td>59.599998</td>\n",
              "      <td>60.119999</td>\n",
              "      <td>59.599998</td>\n",
              "      <td>60.040001</td>\n",
              "      <td>56.990181</td>\n",
              "      <td>8432600.0</td>\n",
              "    </tr>\n",
              "  </tbody>\n",
              "</table>\n",
              "</div>\n",
              "      <button class=\"colab-df-convert\" onclick=\"convertToInteractive('df-7c734d2f-b872-4f59-9195-11e79fe8330e')\"\n",
              "              title=\"Convert this dataframe to an interactive table.\"\n",
              "              style=\"display:none;\">\n",
              "        \n",
              "  <svg xmlns=\"http://www.w3.org/2000/svg\" height=\"24px\"viewBox=\"0 0 24 24\"\n",
              "       width=\"24px\">\n",
              "    <path d=\"M0 0h24v24H0V0z\" fill=\"none\"/>\n",
              "    <path d=\"M18.56 5.44l.94 2.06.94-2.06 2.06-.94-2.06-.94-.94-2.06-.94 2.06-2.06.94zm-11 1L8.5 8.5l.94-2.06 2.06-.94-2.06-.94L8.5 2.5l-.94 2.06-2.06.94zm10 10l.94 2.06.94-2.06 2.06-.94-2.06-.94-.94-2.06-.94 2.06-2.06.94z\"/><path d=\"M17.41 7.96l-1.37-1.37c-.4-.4-.92-.59-1.43-.59-.52 0-1.04.2-1.43.59L10.3 9.45l-7.72 7.72c-.78.78-.78 2.05 0 2.83L4 21.41c.39.39.9.59 1.41.59.51 0 1.02-.2 1.41-.59l7.78-7.78 2.81-2.81c.8-.78.8-2.07 0-2.86zM5.41 20L4 18.59l7.72-7.72 1.47 1.35L5.41 20z\"/>\n",
              "  </svg>\n",
              "      </button>\n",
              "      \n",
              "  <style>\n",
              "    .colab-df-container {\n",
              "      display:flex;\n",
              "      flex-wrap:wrap;\n",
              "      gap: 12px;\n",
              "    }\n",
              "\n",
              "    .colab-df-convert {\n",
              "      background-color: #E8F0FE;\n",
              "      border: none;\n",
              "      border-radius: 50%;\n",
              "      cursor: pointer;\n",
              "      display: none;\n",
              "      fill: #1967D2;\n",
              "      height: 32px;\n",
              "      padding: 0 0 0 0;\n",
              "      width: 32px;\n",
              "    }\n",
              "\n",
              "    .colab-df-convert:hover {\n",
              "      background-color: #E2EBFA;\n",
              "      box-shadow: 0px 1px 2px rgba(60, 64, 67, 0.3), 0px 1px 3px 1px rgba(60, 64, 67, 0.15);\n",
              "      fill: #174EA6;\n",
              "    }\n",
              "\n",
              "    [theme=dark] .colab-df-convert {\n",
              "      background-color: #3B4455;\n",
              "      fill: #D2E3FC;\n",
              "    }\n",
              "\n",
              "    [theme=dark] .colab-df-convert:hover {\n",
              "      background-color: #434B5C;\n",
              "      box-shadow: 0px 1px 3px 1px rgba(0, 0, 0, 0.15);\n",
              "      filter: drop-shadow(0px 1px 2px rgba(0, 0, 0, 0.3));\n",
              "      fill: #FFFFFF;\n",
              "    }\n",
              "  </style>\n",
              "\n",
              "      <script>\n",
              "        const buttonEl =\n",
              "          document.querySelector('#df-7c734d2f-b872-4f59-9195-11e79fe8330e button.colab-df-convert');\n",
              "        buttonEl.style.display =\n",
              "          google.colab.kernel.accessAllowed ? 'block' : 'none';\n",
              "\n",
              "        async function convertToInteractive(key) {\n",
              "          const element = document.querySelector('#df-7c734d2f-b872-4f59-9195-11e79fe8330e');\n",
              "          const dataTable =\n",
              "            await google.colab.kernel.invokeFunction('convertToInteractive',\n",
              "                                                     [key], {});\n",
              "          if (!dataTable) return;\n",
              "\n",
              "          const docLinkHtml = 'Like what you see? Visit the ' +\n",
              "            '<a target=\"_blank\" href=https://colab.research.google.com/notebooks/data_table.ipynb>data table notebook</a>'\n",
              "            + ' to learn more about interactive tables.';\n",
              "          element.innerHTML = '';\n",
              "          dataTable['output_type'] = 'display_data';\n",
              "          await google.colab.output.renderOutput(dataTable, element);\n",
              "          const docLink = document.createElement('div');\n",
              "          docLink.innerHTML = docLinkHtml;\n",
              "          element.appendChild(docLink);\n",
              "        }\n",
              "      </script>\n",
              "    </div>\n",
              "  </div>\n",
              "  "
            ]
          },
          "metadata": {},
          "execution_count": 8
        }
      ]
    },
    {
      "cell_type": "markdown",
      "source": [
        "# 2. Caculate distance matrix D"
      ],
      "metadata": {
        "id": "dgUO9KjcVhHh"
      }
    },
    {
      "cell_type": "code",
      "source": [
        "def distance(x1, x2):\n",
        "    \"\"\"\n",
        "    x1: p x 1, x2: p x 1\n",
        "    Euclidean distance\n",
        "    \"\"\"\n",
        "    x1 = np.transpose(x1) # 1 x p\n",
        "    x2 = np.transpose(x2) # 1 x p\n",
        "\n",
        "    temp = x1 - x2 # 1 x p\n",
        "    return np.sqrt(np.dot(temp, temp.T))"
      ],
      "metadata": {
        "id": "Mo1PVOaxXZrZ"
      },
      "execution_count": 9,
      "outputs": []
    },
    {
      "cell_type": "code",
      "source": [
        "def DTWDistance(x1, x2, bw):\n",
        "    \"\"\"\n",
        "    x1: p X n, x2: p X m \n",
        "    p: the # of features, m: the # of times\n",
        "    bw: bandwidth\n",
        "    \"\"\"\n",
        "    n = x1.shape[1]\n",
        "    m = x2.shape[1]\n",
        "\n",
        "    D = np.zeros((n, m))\n",
        "    \n",
        "    D[0,0] = distance(x1[:, 0], x2[:, 0])\n",
        "    print(f'D[0,0]:{D[0,0]}')\n",
        "\n",
        "    for i in range(1, n):\n",
        "        D[i, 0] = np.inf\n",
        "    for j in range(1,m):\n",
        "        D[0, j] = np.inf\n",
        "\n",
        "    for i in range(1, n):\n",
        "        for j in range(max(1, i-bw), min(m, i+bw)):\n",
        "            cost = (distance(x1[:, i], x2[:, j]))/1000000\n",
        "            D[i, j] = cost + min(D[i-1, j], D[i, j-1], D[i-1, j-1])\n",
        "    \n",
        "    return D[n-1, m-1]"
      ],
      "metadata": {
        "id": "Ax8Y9yIoVdMf"
      },
      "execution_count": 10,
      "outputs": []
    },
    {
      "cell_type": "code",
      "source": [
        "t1 = data.xs('AAPL', level=1).transpose().to_numpy()\n",
        "t2 = data.xs('AAPL', level=1).transpose().to_numpy()\n",
        "\n",
        "print(DTWDistance(t1, t2, 3))"
      ],
      "metadata": {
        "colab": {
          "base_uri": "https://localhost:8080/"
        },
        "id": "fhI3LayXc3l2",
        "outputId": "6df5de19-d970-43c1-91f5-f83dcf2aa5b4"
      },
      "execution_count": 11,
      "outputs": [
        {
          "output_type": "stream",
          "name": "stdout",
          "text": [
            "D[0,0]:0.0\n",
            "0.0\n"
          ]
        }
      ]
    },
    {
      "cell_type": "code",
      "source": [
        "num_ticker = len(tickers)\n",
        "total_D = np.zeros((num_ticker, num_ticker))\n",
        "\n",
        "datas = [data.xs(ticker, level=1).transpose().to_numpy() for ticker in tickers]"
      ],
      "metadata": {
        "id": "NFIxdTn5dd4g"
      },
      "execution_count": 12,
      "outputs": []
    },
    {
      "cell_type": "code",
      "source": [
        "for i in range(num_ticker):\n",
        "    for j in range(num_ticker):\n",
        "        if (total_D[j, i]!=0):\n",
        "            total_D[i, j] = total_D[j, i]\n",
        "            continue\n",
        "        \n",
        "        total_D[i, j] = DTWDistance(datas[i], datas[j], 3)\n",
        "\n",
        "total_D"
      ],
      "metadata": {
        "colab": {
          "base_uri": "https://localhost:8080/"
        },
        "id": "mzfokWCJhJ4-",
        "outputId": "cf71c085-0f07-4724-8c1f-eeb57ea853b0"
      },
      "execution_count": 13,
      "outputs": [
        {
          "output_type": "stream",
          "name": "stdout",
          "text": [
            "D[0,0]:0.0\n",
            "D[0,0]:133418877.00000067\n",
            "D[0,0]:26070477.0000014\n",
            "D[0,0]:6371077.000040512\n",
            "D[0,0]:0.0\n",
            "D[0,0]:107348400.00000098\n",
            "D[0,0]:127047800.0000045\n",
            "D[0,0]:0.0\n",
            "D[0,0]:19699400.000009626\n",
            "D[0,0]:0.0\n"
          ]
        },
        {
          "output_type": "execute_result",
          "data": {
            "text/plain": [
              "array([[  0.    , 173.2135,  43.5217,  28.7437],\n",
              "       [173.2135,   0.    , 121.2587, 136.0367],\n",
              "       [ 43.5217, 121.2587,   0.    ,  12.0507],\n",
              "       [ 28.7437, 136.0367,  12.0507,   0.    ]])"
            ]
          },
          "metadata": {},
          "execution_count": 13
        }
      ]
    },
    {
      "cell_type": "markdown",
      "source": [
        "# 3. Clustering"
      ],
      "metadata": {
        "id": "J83bjdAmqV_Y"
      }
    },
    {
      "cell_type": "markdown",
      "source": [
        "## 3-1. Test by library"
      ],
      "metadata": {
        "id": "fOoscp139jm5"
      }
    },
    {
      "cell_type": "markdown",
      "source": [
        "### 1) Hierchial clustering"
      ],
      "metadata": {
        "id": "d3M66sGq-cS4"
      }
    },
    {
      "cell_type": "code",
      "source": [
        "import scipy.cluster.hierarchy as hcl\n",
        "from scipy.spatial.distance import squareform"
      ],
      "metadata": {
        "id": "9l3YOaXc-d7d"
      },
      "execution_count": null,
      "outputs": []
    },
    {
      "cell_type": "code",
      "source": [
        "hcl.dendrogram(hcl.linkage(squareform(total_D)))"
      ],
      "metadata": {
        "colab": {
          "base_uri": "https://localhost:8080/",
          "height": 455
        },
        "id": "lPux6QWs9uec",
        "outputId": "765ee5fe-49fe-43a3-9067-5e16fdb4a311"
      },
      "execution_count": null,
      "outputs": [
        {
          "output_type": "execute_result",
          "data": {
            "text/plain": [
              "{'color_list': ['C1', 'C1', 'C0'],\n",
              " 'dcoord': [[0.0, 9.624200002416302, 9.624200002416302, 0.0],\n",
              "  [0.0, 40.01400000014606, 40.01400000014606, 9.624200002416302],\n",
              "  [0.0, 113.27170000043571, 113.27170000043571, 40.01400000014606]],\n",
              " 'icoord': [[25.0, 25.0, 35.0, 35.0],\n",
              "  [15.0, 15.0, 30.0, 30.0],\n",
              "  [5.0, 5.0, 22.5, 22.5]],\n",
              " 'ivl': ['1', '0', '2', '3'],\n",
              " 'leaves': [1, 0, 2, 3],\n",
              " 'leaves_color_list': ['C0', 'C1', 'C1', 'C1']}"
            ]
          },
          "metadata": {},
          "execution_count": 53
        },
        {
          "output_type": "display_data",
          "data": {
            "text/plain": [
              "<Figure size 432x288 with 1 Axes>"
            ],
            "image/png": "[encoded data removed]"
          },
          "metadata": {
            "needs_background": "light"
          }
        }
      ]
    },
    {
      "cell_type": "markdown",
      "source": [
        "### 2) K-Medoids"
      ],
      "metadata": {
        "id": "YqfcYLVeCMVX"
      }
    },
    {
      "cell_type": "code",
      "source": [
        "from sklearn_extra.cluster import KMedoids\n",
        "\n",
        "km = KMedoids(n_clusters=2, method='pam')\n",
        "km.fit(total_D)"
      ],
      "metadata": {
        "colab": {
          "base_uri": "https://localhost:8080/"
        },
        "id": "lTpQ7oE1CNd-",
        "outputId": "a8e5c641-b5c7-44eb-d92c-a9a74af8b405"
      },
      "execution_count": null,
      "outputs": [
        {
          "output_type": "execute_result",
          "data": {
            "text/plain": [
              "KMedoids(method='pam', n_clusters=2)"
            ]
          },
          "metadata": {},
          "execution_count": 69
        }
      ]
    },
    {
      "cell_type": "code",
      "source": [
        "km.labels_"
      ],
      "metadata": {
        "colab": {
          "base_uri": "https://localhost:8080/"
        },
        "id": "6hDseZj9LIko",
        "outputId": "a81ec5db-8582-481c-88bc-4a91e5c293f6"
      },
      "execution_count": null,
      "outputs": [
        {
          "output_type": "execute_result",
          "data": {
            "text/plain": [
              "array([1, 0, 1, 1])"
            ]
          },
          "metadata": {},
          "execution_count": 70
        }
      ]
    },
    {
      "cell_type": "markdown",
      "source": [
        "## 3-2. Make own module"
      ],
      "metadata": {
        "id": "S0vN3oXD9mhU"
      }
    },
    {
      "cell_type": "markdown",
      "source": [
        "### 1) Hierchial"
      ],
      "metadata": {
        "id": "3i5XdSicLN-N"
      }
    },
    {
      "cell_type": "markdown",
      "source": [
        "### 2) K-Medoids\n"
      ],
      "metadata": {
        "id": "MD5MbAAMLQcc"
      }
    },
    {
      "cell_type": "code",
      "source": [
        "total_D"
      ],
      "metadata": {
        "colab": {
          "base_uri": "https://localhost:8080/"
        },
        "id": "kZdAsl4K-Kx5",
        "outputId": "62ce76ac-9b81-4e7b-ed2b-cb07f22fc0ab"
      },
      "execution_count": 76,
      "outputs": [
        {
          "output_type": "execute_result",
          "data": {
            "text/plain": [
              "array([[  0.    , 173.2135,  43.5217,  28.7437],\n",
              "       [173.2135,   0.    , 121.2587, 136.0367],\n",
              "       [ 43.5217, 121.2587,   0.    ,  12.0507],\n",
              "       [ 28.7437, 136.0367,  12.0507,   0.    ]])"
            ]
          },
          "metadata": {},
          "execution_count": 76
        }
      ]
    },
    {
      "cell_type": "code",
      "source": [
        "class KMedoids:\n",
        "    def __init__(self, distance, k, tau):\n",
        "        \"\"\"\n",
        "        distance: n X n matrix \n",
        "        n : the # of data\n",
        "        \"\"\"\n",
        "        self.D = distance \n",
        "        self.n = self.D.shape[0]\n",
        "\n",
        "        self.TD = np.inf\n",
        "        \n",
        "        self.num_cluster = k\n",
        "        self.medoids = [-1 for i in range(self.num_cluster)]\n",
        "        \n",
        "        self.d_nearest = [-1 for i in range(self.n)]\n",
        "        self.d_second = [-1 for i in range(self.n)]\n",
        "        self.nearest_idx = [-1 for i in range(self.n)]\n",
        "\n",
        "        self.tau = tau\n",
        "        \n",
        "    def _nearest_distance_to_medoids(self, o):\n",
        "        # o: index of the data\n",
        "        distance = np.inf\n",
        "        for m in self.medoids:\n",
        "            if (self.D[m, o] < distance): distance = self.D[m, o]\n",
        "\n",
        "        return distance    \n",
        "\n",
        "    def _compute_pam2_initial(self):  \n",
        "        for i in range(self.n):\n",
        "            temp_dist = [np.inf, np.inf] # container for nearest, second\n",
        "            nearest_idx = -1\n",
        "            for j in range(self.num_cluster): # 0, 1, ..., k-1\n",
        "                m = self.medoids[j]\n",
        "                if (self.D[i, m] < temp_dist[1]):\n",
        "                    if (self.D[i, m] < temp_dist[0]):\n",
        "                        temp_dist[1] = temp_dist[0]\n",
        "                        temp_dist[0] = self.D[i, m]                  \n",
        "                        nearest_idx = j\n",
        "                    else:\n",
        "                        temp_dist[1] = self.D[i,m]\n",
        "                \n",
        "            self.nearest_idx[i] = nearest_idx\n",
        "            self.d_nearest[i] = temp_dist[0]\n",
        "            self.d_second[i] = temp_dist[1]\n",
        "        return\n",
        "\n",
        "    def _build(self):\n",
        "        TDs = [0 for i in range(self.n)]\n",
        "        TD = np.inf\n",
        "\n",
        "        for i in range(self.n):\n",
        "            for j in range(self.n):\n",
        "                if (j==i): continue\n",
        "                TDs[i] += self.D[i, j]\n",
        "\n",
        "            if (TDs[i] < TD): \n",
        "                TD = TDs[i]\n",
        "                self.medoids[0] = i\n",
        "        \n",
        "        for i in range(1, self.num_cluster):\n",
        "            delta_TD_opt = np.inf\n",
        "            x_opt = None\n",
        "\n",
        "            for j in range(self.n): # new medoids candidates\n",
        "                if (j in self.medoids): continue\n",
        "                delta_TD = 0\n",
        "                for o in range(self.n):\n",
        "                    if ((o in self.medoids) or (o==j)): continue\n",
        "                    delta = self.D[j, o] - self._nearest_distance_to_medoids(o)\n",
        "                    if (delta<0): delta_TD += delta\n",
        "                if (delta_TD < delta_TD_opt): \n",
        "                    delta_TD_opt = delta_TD\n",
        "                    x_opt = j\n",
        "            self.TD += delta_TD_opt\n",
        "            self.medoids[i] = x_opt\n",
        "\n",
        "    def _delta_for_swap(self, x, ori_m_idx, new_m):\n",
        "        if (ori_m_idx == self.nearest_idx[x]):\n",
        "            return min(self.D[x, new_m], self.d_second[x]) - self.d_nearest[x]\n",
        "        return min(self.D[x, new_m]-self.d_nearest[x], 0)\n",
        "\n",
        "    def run(self):\n",
        "        self._build() # initialize the medoids\n",
        "        \n",
        "        while (True):\n",
        "            self._compute_pam2_initial() # calculate nearest, d_nearest, d_second\n",
        "            delta_TDs_opt = [0 for i in range(self.num_cluster)]\n",
        "            xs_opt = [-1 for i in range(self.num_cluster)]\n",
        "\n",
        "            for i in range(self.n):\n",
        "                if (i in self.medoids) : continue\n",
        "                d_i = self.d_nearest[i]\n",
        "                delta_TD = [-d_i for i in range(self.num_cluster)]\n",
        "\n",
        "                for j in range(self.n):\n",
        "                    if (i==j): continue\n",
        "                    d_ij = self.D[i,j]\n",
        "                    n, d_n, d_s = (self.nearest_idx[j], self.d_nearest[j], self.d_second[j])\n",
        "                    \n",
        "                    delta_TD[n] += min(d_ij, d_s) - d_n\n",
        "                    if (d_ij < d_n): \n",
        "                        for m_idx in range(self.num_cluster):\n",
        "                            if (m_idx == n): continue\n",
        "                            delta_TD[m_idx] += d_ij - d_n\n",
        "                \n",
        "                for TD_idx in range(self.num_cluster):\n",
        "                    if (delta_TD[TD_idx] < delta_TDs_opt[TD_idx]):\n",
        "                        delta_TDs_opt[TD_idx], xs_opt[TD_idx] = (delta_TD[TD_idx], i)\n",
        "\n",
        "            \n",
        "            if min(delta_TDs_opt)>=0:\n",
        "                break\n",
        "\n",
        "            i = np.argmin(delta_TDs_opt) #m_i를 x*[i]로 swap 시 최적의 improvement 실현 가능\n",
        "            while (delta_TDs_opt[i]<0): # when switch i-th medoid and non-mdeoid => effective\n",
        "                # 1. swap medoids[i] <-> x*[i]\n",
        "                self.medoids[i] = xs_opt[i]\n",
        "                self._compute_pam2_initial()\n",
        "                self.TD += delta_TDs_opt[i]\n",
        "                delta_TDs_opt[i] = 0 # swap이 끝났으니 m[i] == x*[i] => 따라서 delta TD = 0\n",
        "\n",
        "                for j in range(self.num_cluster):\n",
        "                    if (delta_TDs_opt[j]>=0): continue\n",
        "\n",
        "                    # delta_TDs_opt[ii] < 0 \n",
        "                    delta_TD = 0 # m[j] -> x*[j] swap 시 change cost\n",
        "                    for o in range(self.n):\n",
        "                        if (o == self.medoids[j]):\n",
        "                            delta_TD += self._delta_for_swap(o, j, xs_opt[j])\n",
        "                        elif (o in self.medoids): continue\n",
        "                        else:\n",
        "                            delta_TD += self._delta_for_swap(o, j, xs_opt[j])\n",
        "\n",
        "                    if (delta_TD <= self.tau*delta_TDs_opt[j]):\n",
        "                        delta_TDs_opt[j] = delta_TD;\n",
        "                    else:\n",
        "                        delta_TDs_opt[j] = 0\n",
        "\n",
        "                i = np.argmin(delta_TDs_opt)\n",
        "\n",
        "  "
      ],
      "metadata": {
        "id": "pJhBrzuNhdDq"
      },
      "execution_count": 98,
      "outputs": []
    },
    {
      "cell_type": "code",
      "source": [
        "model = KMedoids(total_D, 2, 0.5)\n",
        "model.run()"
      ],
      "metadata": {
        "id": "qtzDwluIV4to"
      },
      "execution_count": 100,
      "outputs": []
    },
    {
      "cell_type": "code",
      "source": [
        "model.nearest_idx"
      ],
      "metadata": {
        "colab": {
          "base_uri": "https://localhost:8080/"
        },
        "id": "VR3sokKvABUr",
        "outputId": "2ca2275b-b578-41d4-b4e9-f101009c9ce4"
      },
      "execution_count": 102,
      "outputs": [
        {
          "output_type": "execute_result",
          "data": {
            "text/plain": [
              "[0, 1, 0, 0]"
            ]
          },
          "metadata": {},
          "execution_count": 102
        }
      ]
    },
    {
      "cell_type": "code",
      "source": [
        ""
      ],
      "metadata": {
        "id": "yx8MwgCJ__TF"
      },
      "execution_count": null,
      "outputs": []
    }
  ]
}